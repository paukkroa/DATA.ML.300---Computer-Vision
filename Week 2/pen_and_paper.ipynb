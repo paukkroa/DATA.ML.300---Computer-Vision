{
 "cells": [
  {
   "cell_type": "code",
   "execution_count": 1,
   "metadata": {},
   "outputs": [],
   "source": [
    "import numpy as np"
   ]
  },
  {
   "cell_type": "code",
   "execution_count": 2,
   "metadata": {},
   "outputs": [
    {
     "name": "stdout",
     "output_type": "stream",
     "text": [
      "Hidden layer output:  0.5\n",
      "Output layer output:  2.0\n"
     ]
    }
   ],
   "source": [
    "x = 1\n",
    "t = 1\n",
    "\n",
    "w1 = -2\n",
    "b1 = 2\n",
    "x1 = w1 * x + b1\n",
    "\n",
    "x2 = 1 / (1 + np.exp(-x1))\n",
    "\n",
    "w2 = 4\n",
    "b2 = 0\n",
    "\n",
    "x3 = w2 * x2 + b2\n",
    "\n",
    "print(\"Hidden layer output: \", x2)\n",
    "print(\"Output layer output: \", x3)"
   ]
  },
  {
   "cell_type": "code",
   "execution_count": 3,
   "metadata": {},
   "outputs": [],
   "source": [
    "def mse_loss(y_true, y_pred):\n",
    "    return np.mean((y_true - y_pred) ** 2)"
   ]
  },
  {
   "cell_type": "code",
   "execution_count": 5,
   "metadata": {},
   "outputs": [
    {
     "name": "stdout",
     "output_type": "stream",
     "text": [
      "Loss:  1.0\n"
     ]
    }
   ],
   "source": [
    "l = mse_loss(t, x3)\n",
    "print(\"Loss: \", l)"
   ]
  },
  {
   "cell_type": "code",
   "execution_count": 6,
   "metadata": {},
   "outputs": [
    {
     "name": "stdout",
     "output_type": "stream",
     "text": [
      "dL/dw2 = 1.0\n"
     ]
    }
   ],
   "source": [
    "dL_dw2 = 2 * (x3 - t) * x2\n",
    "print(\"dL/dw2 =\", dL_dw2)"
   ]
  },
  {
   "cell_type": "code",
   "execution_count": 7,
   "metadata": {},
   "outputs": [
    {
     "name": "stdout",
     "output_type": "stream",
     "text": [
      "dL/dw1 = 2.0\n"
     ]
    }
   ],
   "source": [
    "dL_dw1 = 2 * (x3 - t) * w2 * (x2 * (1 - x2)) * x\n",
    "print(\"dL/dw1 =\", dL_dw1)"
   ]
  },
  {
   "cell_type": "code",
   "execution_count": 8,
   "metadata": {},
   "outputs": [],
   "source": [
    "Q = np.array([2, 1, 6, 4, 2])\n",
    "A = np.array([1, 2, 3, 4, 1])\n",
    "B = np.array([3, 1, 4, 1, 5])"
   ]
  },
  {
   "cell_type": "code",
   "execution_count": 9,
   "metadata": {},
   "outputs": [
    {
     "name": "stdout",
     "output_type": "stream",
     "text": [
      "Euclidean distance between Q and A: 3.4641016151377544\n",
      "Euclidean distance between Q and B: 4.795831523312719\n"
     ]
    }
   ],
   "source": [
    "distance_Q_A = np.linalg.norm(Q - A)\n",
    "distance_Q_B = np.linalg.norm(Q - B)\n",
    "\n",
    "print(\"Euclidean distance between Q and A:\", distance_Q_A)\n",
    "print(\"Euclidean distance between Q and B:\", distance_Q_B)"
   ]
  },
  {
   "cell_type": "code",
   "execution_count": 10,
   "metadata": {},
   "outputs": [
    {
     "name": "stdout",
     "output_type": "stream",
     "text": [
      "Cosine similarity between Q and A: 0.9198440996365479\n",
      "Cosine similarity between Q and B: 0.7989984272569894\n"
     ]
    }
   ],
   "source": [
    "def cosine_similarity(u, v):\n",
    "    return np.dot(u, v) / (np.linalg.norm(u) * np.linalg.norm(v))\n",
    "\n",
    "cos_sim_Q_A = cosine_similarity(Q, A)\n",
    "cos_sim_Q_B = cosine_similarity(Q, B)\n",
    "\n",
    "print(\"Cosine similarity between Q and A:\", cos_sim_Q_A)\n",
    "print(\"Cosine similarity between Q and B:\", cos_sim_Q_B)"
   ]
  },
  {
   "cell_type": "code",
   "execution_count": null,
   "metadata": {},
   "outputs": [],
   "source": []
  }
 ],
 "metadata": {
  "kernelspec": {
   "display_name": "dataml300",
   "language": "python",
   "name": "python3"
  },
  "language_info": {
   "codemirror_mode": {
    "name": "ipython",
    "version": 3
   },
   "file_extension": ".py",
   "mimetype": "text/x-python",
   "name": "python",
   "nbconvert_exporter": "python",
   "pygments_lexer": "ipython3",
   "version": "3.10.16"
  }
 },
 "nbformat": 4,
 "nbformat_minor": 2
}
